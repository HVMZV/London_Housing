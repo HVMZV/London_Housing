{
 "cells": [
  {
   "cell_type": "code",
   "execution_count": 1,
   "metadata": {},
   "outputs": [],
   "source": [
    "import pandas as pd\n",
    "import numpy as np\n",
    "import os\n",
    "import pickle\n",
    "import matplotlib.pyplot as plt\n",
    "import seaborn as sns\n",
    "from sklearn import __version__ as sklearn_version\n",
    "from sklearn.model_selection import cross_validate\n",
    "from sklearn.datasets import make_classification\n",
    "from sklearn.ensemble import ExtraTreesRegressor\n",
    "\n",
    "from sklearn import set_config \n",
    "from sklearn.utils import estimator_html_repr \n",
    "from IPython.core.display import display, HTML "
   ]
  },
  {
   "cell_type": "code",
   "execution_count": 2,
   "metadata": {},
   "outputs": [],
   "source": [
    "from numpy.ma import MaskedArray\n",
    "import sklearn.utils.fixes\n",
    "\n",
    "sklearn.utils.fixes.MaskedArray = MaskedArray \n",
    "\n",
    "import re\n",
    "import time\n",
    "import datetime\n",
    "\n",
    "import numpy as np  \n",
    "import pandas as pd  \n",
    "\n",
    "import plotly.express as px\n",
    "\n",
    "from sklearn.preprocessing import OneHotEncoder\n",
    "from sklearn.impute import SimpleImputer\n",
    "from sklearn.compose import ColumnTransformer, make_column_selector\n",
    "from sklearn.pipeline import make_pipeline, Pipeline\n",
    "from sklearn.feature_selection import SelectPercentile, VarianceThreshold, f_regression\n",
    "import category_encoders as ce\n",
    "from catboost import CatBoostRegressor\n",
    "\n",
    "import multiprocessing\n",
    "\n",
    "\n",
    "#### globals ####\n",
    "\n",
    "DEP_VAR = 'SalePrice'\n",
    "n_threads = multiprocessing.cpu_count()\n",
    "MAX_OH_CARDINALITY = 10\n",
    "N_ESTIMATORS = 1000\n",
    "SEED = 5\n",
    "\n",
    "\n",
    "#### load data ####\n",
    "\n",
    "train_df = pd.read_csv('C:/Users/Process Research/Downloads/Springboard Assignments/House Prices Advanced Regression Techniques/train.csv')\\\n",
    "            .set_index('Id')\\\n",
    "            .fillna(np.nan)\n",
    "\n",
    "# split the dependent variable from the features\n",
    "y_train = train_df.pop(DEP_VAR)\n",
    "log_y_train = np.log(y_train)\n",
    "\n",
    "\n",
    "#### create column transformer ####\n",
    "\n",
    "select_numeric_features = make_column_selector(dtype_include=np.number)\n",
    "numeric_pipeline = make_pipeline(SimpleImputer(strategy='median', add_indicator=True))  \n",
    "\n",
    "\n",
    "def select_oh_features(df):\n",
    "\n",
    "    oh_features =\\\n",
    "        df\\\n",
    "        .select_dtypes(['object', 'category'])\\\n",
    "        .apply(lambda col: col.nunique())\\\n",
    "        .loc[lambda x: x <= MAX_OH_CARDINALITY]\\\n",
    "        .index\\\n",
    "        .tolist()\n",
    "\n",
    "    return oh_features\n",
    "\n",
    "\n",
    "oh_pipeline = make_pipeline(SimpleImputer(strategy='constant'), \n",
    "                            OneHotEncoder(handle_unknown='ignore'))\n",
    "\n",
    "def select_hc_features(df):\n",
    "\n",
    "    hc_features =\\\n",
    "        df\\\n",
    "        .select_dtypes(['object', 'category'])\\\n",
    "        .apply(lambda col: col.nunique())\\\n",
    "        .loc[lambda x: x > MAX_OH_CARDINALITY]\\\n",
    "        .index\\\n",
    "        .tolist()\n",
    "\n",
    "    return hc_features\n",
    "\n",
    "hc_pipeline = make_pipeline(ce.GLMMEncoder())\n",
    "\n",
    "\n",
    "column_transformer = ColumnTransformer(transformers=\\\n",
    "                                       [('numeric_pipeline',\n",
    "                                         numeric_pipeline, \n",
    "                                         select_numeric_features),\\\n",
    "                                        ('oh_pipeline', \n",
    "                                         oh_pipeline, \n",
    "                                         select_oh_features),\\\n",
    "                                        ('hc_pipeline', \n",
    "                                         hc_pipeline, \n",
    "                                         select_hc_features)\n",
    "                                       ],\\\n",
    "                                       n_jobs=n_threads,\n",
    "                                       remainder='drop')\n",
    "\n",
    "#### create pipeline ####\n",
    "\n",
    "cat = CatBoostRegressor(thread_count=n_threads, n_estimators=N_ESTIMATORS, \n",
    "                        random_state=SEED, verbose=False)\n",
    "\n",
    "\n",
    "pipe = Pipeline(steps=[('column_transformer', column_transformer),\\\n",
    "                       ('variancethreshold', VarianceThreshold(threshold=0.0)),\\\n",
    "                       ('selectpercentile', SelectPercentile(f_regression, percentile=90)),\\\n",
    "                       ('model', cat)])\n",
    "\n",
    "_ = pipe.fit(train_df, log_y_train)"
   ]
  },
  {
   "cell_type": "code",
   "execution_count": 3,
   "metadata": {},
   "outputs": [
    {
     "data": {
      "text/html": [
       "<style>div.sk-top-container {color: black;background-color: white;}div.sk-toggleable {background-color: white;}label.sk-toggleable__label {cursor: pointer;display: block;width: 100%;margin-bottom: 0;padding: 0.2em 0.3em;box-sizing: border-box;text-align: center;}div.sk-toggleable__content {max-height: 0;max-width: 0;overflow: hidden;text-align: left;background-color: #f0f8ff;}div.sk-toggleable__content pre {margin: 0.2em;color: black;border-radius: 0.25em;background-color: #f0f8ff;}input.sk-toggleable__control:checked~div.sk-toggleable__content {max-height: 200px;max-width: 100%;overflow: auto;}div.sk-estimator input.sk-toggleable__control:checked~label.sk-toggleable__label {background-color: #d4ebff;}div.sk-label input.sk-toggleable__control:checked~label.sk-toggleable__label {background-color: #d4ebff;}input.sk-hidden--visually {border: 0;clip: rect(1px 1px 1px 1px);clip: rect(1px, 1px, 1px, 1px);height: 1px;margin: -1px;overflow: hidden;padding: 0;position: absolute;width: 1px;}div.sk-estimator {font-family: monospace;background-color: #f0f8ff;margin: 0.25em 0.25em;border: 1px dotted black;border-radius: 0.25em;box-sizing: border-box;}div.sk-estimator:hover {background-color: #d4ebff;}div.sk-parallel-item::after {content: \"\";width: 100%;border-bottom: 1px solid gray;flex-grow: 1;}div.sk-label:hover label.sk-toggleable__label {background-color: #d4ebff;}div.sk-serial::before {content: \"\";position: absolute;border-left: 1px solid gray;box-sizing: border-box;top: 2em;bottom: 0;left: 50%;}div.sk-serial {display: flex;flex-direction: column;align-items: center;background-color: white;}div.sk-item {z-index: 1;}div.sk-parallel {display: flex;align-items: stretch;justify-content: center;background-color: white;}div.sk-parallel-item {display: flex;flex-direction: column;position: relative;background-color: white;}div.sk-parallel-item:first-child::after {align-self: flex-end;width: 50%;}div.sk-parallel-item:last-child::after {align-self: flex-start;width: 50%;}div.sk-parallel-item:only-child::after {width: 0;}div.sk-dashed-wrapped {border: 1px dashed gray;margin: 0.2em;box-sizing: border-box;padding-bottom: 0.1em;background-color: white;position: relative;}div.sk-label label {font-family: monospace;font-weight: bold;background-color: white;display: inline-block;line-height: 1.2em;}div.sk-label-container {position: relative;z-index: 2;text-align: center;}div.sk-container {display: inline-block;position: relative;}</style><div class=\"sk-top-container\"><div class=\"sk-container\"><div class=\"sk-item sk-dashed-wrapped\"><div class=\"sk-label-container\"><div class=\"sk-label sk-toggleable\"><input class=\"sk-toggleable__control sk-hidden--visually\" id=\"2ac2acec-7f9d-4ca6-a2fa-7e5ea30b49b3\" type=\"checkbox\" ><label class=\"sk-toggleable__label\" for=\"2ac2acec-7f9d-4ca6-a2fa-7e5ea30b49b3\">Pipeline</label><div class=\"sk-toggleable__content\"><pre>Pipeline(steps=[('column_transformer',\n",
       "                 ColumnTransformer(n_jobs=8,\n",
       "                                   transformers=[('numeric_pipeline',\n",
       "                                                  Pipeline(steps=[('simpleimputer',\n",
       "                                                                   SimpleImputer(add_indicator=True,\n",
       "                                                                                 strategy='median'))]),\n",
       "                                                  <sklearn.compose._column_transformer.make_column_selector object at 0x000001F5D4930DC0>),\n",
       "                                                 ('oh_pipeline',\n",
       "                                                  Pipeline(steps=[('simpleimputer',\n",
       "                                                                   SimpleImputer(strategy='const...\n",
       "                                                  <function select_oh_features at 0x000001F5D4716E50>),\n",
       "                                                 ('hc_pipeline',\n",
       "                                                  Pipeline(steps=[('glmmencoder',\n",
       "                                                                   GLMMEncoder())]),\n",
       "                                                  <function select_hc_features at 0x000001F5D4CFDB80>)])),\n",
       "                ('variancethreshold', VarianceThreshold()),\n",
       "                ('selectpercentile',\n",
       "                 SelectPercentile(percentile=90,\n",
       "                                  score_func=<function f_regression at 0x000001F5D4967790>)),\n",
       "                ('model',\n",
       "                 <catboost.core.CatBoostRegressor object at 0x000001F5D4E07250>)])</pre></div></div></div><div class=\"sk-serial\"><div class=\"sk-item sk-dashed-wrapped\"><div class=\"sk-label-container\"><div class=\"sk-label sk-toggleable\"><input class=\"sk-toggleable__control sk-hidden--visually\" id=\"1ec4d0ba-1b56-42b4-a6a1-f893856403e8\" type=\"checkbox\" ><label class=\"sk-toggleable__label\" for=\"1ec4d0ba-1b56-42b4-a6a1-f893856403e8\">column_transformer: ColumnTransformer</label><div class=\"sk-toggleable__content\"><pre>ColumnTransformer(n_jobs=8,\n",
       "                  transformers=[('numeric_pipeline',\n",
       "                                 Pipeline(steps=[('simpleimputer',\n",
       "                                                  SimpleImputer(add_indicator=True,\n",
       "                                                                strategy='median'))]),\n",
       "                                 <sklearn.compose._column_transformer.make_column_selector object at 0x000001F5D4930DC0>),\n",
       "                                ('oh_pipeline',\n",
       "                                 Pipeline(steps=[('simpleimputer',\n",
       "                                                  SimpleImputer(strategy='constant')),\n",
       "                                                 ('onehotencoder',\n",
       "                                                  OneHotEncoder(handle_unknown='ignore'))]),\n",
       "                                 <function select_oh_features at 0x000001F5D4716E50>),\n",
       "                                ('hc_pipeline',\n",
       "                                 Pipeline(steps=[('glmmencoder',\n",
       "                                                  GLMMEncoder())]),\n",
       "                                 <function select_hc_features at 0x000001F5D4CFDB80>)])</pre></div></div></div><div class=\"sk-parallel\"><div class=\"sk-parallel-item\"><div class=\"sk-item\"><div class=\"sk-label-container\"><div class=\"sk-label sk-toggleable\"><input class=\"sk-toggleable__control sk-hidden--visually\" id=\"e621f490-baf9-47b5-bcc3-ec87f1f88596\" type=\"checkbox\" ><label class=\"sk-toggleable__label\" for=\"e621f490-baf9-47b5-bcc3-ec87f1f88596\">numeric_pipeline</label><div class=\"sk-toggleable__content\"><pre><sklearn.compose._column_transformer.make_column_selector object at 0x000001F5D4930DC0></pre></div></div></div><div class=\"sk-serial\"><div class=\"sk-item\"><div class=\"sk-serial\"><div class=\"sk-item\"><div class=\"sk-estimator sk-toggleable\"><input class=\"sk-toggleable__control sk-hidden--visually\" id=\"914fd692-5c37-4cfe-b314-363b5a6dc897\" type=\"checkbox\" ><label class=\"sk-toggleable__label\" for=\"914fd692-5c37-4cfe-b314-363b5a6dc897\">SimpleImputer</label><div class=\"sk-toggleable__content\"><pre>SimpleImputer(add_indicator=True, strategy='median')</pre></div></div></div></div></div></div></div></div><div class=\"sk-parallel-item\"><div class=\"sk-item\"><div class=\"sk-label-container\"><div class=\"sk-label sk-toggleable\"><input class=\"sk-toggleable__control sk-hidden--visually\" id=\"6c9fc3f5-aed3-4349-b99e-4b252371c3ae\" type=\"checkbox\" ><label class=\"sk-toggleable__label\" for=\"6c9fc3f5-aed3-4349-b99e-4b252371c3ae\">oh_pipeline</label><div class=\"sk-toggleable__content\"><pre><function select_oh_features at 0x000001F5D4716E50></pre></div></div></div><div class=\"sk-serial\"><div class=\"sk-item\"><div class=\"sk-serial\"><div class=\"sk-item\"><div class=\"sk-estimator sk-toggleable\"><input class=\"sk-toggleable__control sk-hidden--visually\" id=\"95d39754-554e-4080-9501-86a308c114f2\" type=\"checkbox\" ><label class=\"sk-toggleable__label\" for=\"95d39754-554e-4080-9501-86a308c114f2\">SimpleImputer</label><div class=\"sk-toggleable__content\"><pre>SimpleImputer(strategy='constant')</pre></div></div></div><div class=\"sk-item\"><div class=\"sk-estimator sk-toggleable\"><input class=\"sk-toggleable__control sk-hidden--visually\" id=\"62769fdd-ece8-4789-876f-01633a15be6f\" type=\"checkbox\" ><label class=\"sk-toggleable__label\" for=\"62769fdd-ece8-4789-876f-01633a15be6f\">OneHotEncoder</label><div class=\"sk-toggleable__content\"><pre>OneHotEncoder(handle_unknown='ignore')</pre></div></div></div></div></div></div></div></div><div class=\"sk-parallel-item\"><div class=\"sk-item\"><div class=\"sk-label-container\"><div class=\"sk-label sk-toggleable\"><input class=\"sk-toggleable__control sk-hidden--visually\" id=\"f396e727-1290-4ca0-a595-c2e6bb5e05b2\" type=\"checkbox\" ><label class=\"sk-toggleable__label\" for=\"f396e727-1290-4ca0-a595-c2e6bb5e05b2\">hc_pipeline</label><div class=\"sk-toggleable__content\"><pre><function select_hc_features at 0x000001F5D4CFDB80></pre></div></div></div><div class=\"sk-serial\"><div class=\"sk-item\"><div class=\"sk-serial\"><div class=\"sk-item\"><div class=\"sk-estimator sk-toggleable\"><input class=\"sk-toggleable__control sk-hidden--visually\" id=\"dda431a8-ab95-4739-9e7c-7985027b381c\" type=\"checkbox\" ><label class=\"sk-toggleable__label\" for=\"dda431a8-ab95-4739-9e7c-7985027b381c\">GLMMEncoder</label><div class=\"sk-toggleable__content\"><pre>GLMMEncoder()</pre></div></div></div></div></div></div></div></div></div></div><div class=\"sk-item\"><div class=\"sk-estimator sk-toggleable\"><input class=\"sk-toggleable__control sk-hidden--visually\" id=\"3bb6e138-9985-40cc-8f65-083962c2b08e\" type=\"checkbox\" ><label class=\"sk-toggleable__label\" for=\"3bb6e138-9985-40cc-8f65-083962c2b08e\">VarianceThreshold</label><div class=\"sk-toggleable__content\"><pre>VarianceThreshold()</pre></div></div></div><div class=\"sk-item\"><div class=\"sk-estimator sk-toggleable\"><input class=\"sk-toggleable__control sk-hidden--visually\" id=\"5272b493-6d10-4295-ad09-07236a359b7f\" type=\"checkbox\" ><label class=\"sk-toggleable__label\" for=\"5272b493-6d10-4295-ad09-07236a359b7f\">SelectPercentile</label><div class=\"sk-toggleable__content\"><pre>SelectPercentile(percentile=90,\n",
       "                 score_func=<function f_regression at 0x000001F5D4967790>)</pre></div></div></div><div class=\"sk-item\"><div class=\"sk-estimator sk-toggleable\"><input class=\"sk-toggleable__control sk-hidden--visually\" id=\"502aa991-3010-4608-9a3a-613da5e1ccac\" type=\"checkbox\" ><label class=\"sk-toggleable__label\" for=\"502aa991-3010-4608-9a3a-613da5e1ccac\">CatBoostRegressor</label><div class=\"sk-toggleable__content\"><pre><catboost.core.CatBoostRegressor object at 0x000001F5D4E07250></pre></div></div></div></div></div></div></div>"
      ],
      "text/plain": [
       "<IPython.core.display.HTML object>"
      ]
     },
     "metadata": {},
     "output_type": "display_data"
    }
   ],
   "source": [
    "set_config(display='diagram')\n",
    "display(HTML(estimator_html_repr(pipe)))"
   ]
  },
  {
   "cell_type": "code",
   "execution_count": 4,
   "metadata": {},
   "outputs": [
    {
     "name": "stdout",
     "output_type": "stream",
     "text": [
      "Expected model version doesn't match version loaded\n"
     ]
    }
   ],
   "source": [
    "expected_model_version = '1.0'\n",
    "model_path = '../models/Ames_housing_pricing_model.pkl'\n",
    "if os.path.exists(model_path):\n",
    "    with open(model_path, 'rb') as f:\n",
    "        model = pickle.load(f)\n",
    "    if model.version != expected_model_version:\n",
    "        print(\"Expected model version doesn't match version loaded\")\n",
    "    if model.sklearn_version != sklearn_version:\n",
    "        print(\"Warning: model created under different sklearn version\")\n",
    "else:\n",
    "    print(\"Expected model not found\")"
   ]
  },
  {
   "cell_type": "code",
   "execution_count": 5,
   "metadata": {},
   "outputs": [],
   "source": [
    "ames_housing = pd.read_csv('C:/Users/Process Research/Downloads/Springboard Assignments/House Prices Advanced Regression Techniques/train.csv')"
   ]
  },
  {
   "cell_type": "code",
   "execution_count": 6,
   "metadata": {},
   "outputs": [],
   "source": [
    "ames_housing_e = ames_housing.set_index('Id')\n",
    "ames_housing_e = ames_housing_e.dropna(axis='columns')"
   ]
  },
  {
   "cell_type": "code",
   "execution_count": 7,
   "metadata": {},
   "outputs": [],
   "source": [
    "ames_housing_nums = ames_housing_e.select_dtypes(['number'])"
   ]
  },
  {
   "cell_type": "code",
   "execution_count": 8,
   "metadata": {},
   "outputs": [],
   "source": [
    "X = ames_housing_nums\n",
    "y = ames_housing_nums[['SalePrice']]"
   ]
  },
  {
   "cell_type": "code",
   "execution_count": 9,
   "metadata": {},
   "outputs": [
    {
     "name": "stdout",
     "output_type": "stream",
     "text": [
      "<class 'pandas.core.frame.DataFrame'>\n",
      "Int64Index: 1460 entries, 1 to 1460\n",
      "Data columns (total 34 columns):\n",
      " #   Column         Non-Null Count  Dtype\n",
      "---  ------         --------------  -----\n",
      " 0   MSSubClass     1460 non-null   int64\n",
      " 1   LotArea        1460 non-null   int64\n",
      " 2   OverallQual    1460 non-null   int64\n",
      " 3   OverallCond    1460 non-null   int64\n",
      " 4   YearBuilt      1460 non-null   int64\n",
      " 5   YearRemodAdd   1460 non-null   int64\n",
      " 6   BsmtFinSF1     1460 non-null   int64\n",
      " 7   BsmtFinSF2     1460 non-null   int64\n",
      " 8   BsmtUnfSF      1460 non-null   int64\n",
      " 9   TotalBsmtSF    1460 non-null   int64\n",
      " 10  1stFlrSF       1460 non-null   int64\n",
      " 11  2ndFlrSF       1460 non-null   int64\n",
      " 12  LowQualFinSF   1460 non-null   int64\n",
      " 13  GrLivArea      1460 non-null   int64\n",
      " 14  BsmtFullBath   1460 non-null   int64\n",
      " 15  BsmtHalfBath   1460 non-null   int64\n",
      " 16  FullBath       1460 non-null   int64\n",
      " 17  HalfBath       1460 non-null   int64\n",
      " 18  BedroomAbvGr   1460 non-null   int64\n",
      " 19  KitchenAbvGr   1460 non-null   int64\n",
      " 20  TotRmsAbvGrd   1460 non-null   int64\n",
      " 21  Fireplaces     1460 non-null   int64\n",
      " 22  GarageCars     1460 non-null   int64\n",
      " 23  GarageArea     1460 non-null   int64\n",
      " 24  WoodDeckSF     1460 non-null   int64\n",
      " 25  OpenPorchSF    1460 non-null   int64\n",
      " 26  EnclosedPorch  1460 non-null   int64\n",
      " 27  3SsnPorch      1460 non-null   int64\n",
      " 28  ScreenPorch    1460 non-null   int64\n",
      " 29  PoolArea       1460 non-null   int64\n",
      " 30  MiscVal        1460 non-null   int64\n",
      " 31  MoSold         1460 non-null   int64\n",
      " 32  YrSold         1460 non-null   int64\n",
      " 33  SalePrice      1460 non-null   int64\n",
      "dtypes: int64(34)\n",
      "memory usage: 399.2 KB\n"
     ]
    }
   ],
   "source": [
    "X.info()"
   ]
  },
  {
   "cell_type": "code",
   "execution_count": 10,
   "metadata": {},
   "outputs": [
    {
     "data": {
      "text/plain": [
       "['MSSubClass',\n",
       " 'LotFrontage',\n",
       " 'LotArea',\n",
       " 'OverallQual',\n",
       " 'OverallCond',\n",
       " 'YearBuilt',\n",
       " 'YearRemodAdd',\n",
       " 'MasVnrArea',\n",
       " 'BsmtFinSF1',\n",
       " 'BsmtFinSF2',\n",
       " 'BsmtUnfSF',\n",
       " 'TotalBsmtSF',\n",
       " '1stFlrSF',\n",
       " '2ndFlrSF',\n",
       " 'LowQualFinSF',\n",
       " 'GrLivArea',\n",
       " 'BsmtFullBath',\n",
       " 'BsmtHalfBath',\n",
       " 'FullBath',\n",
       " 'HalfBath',\n",
       " 'BedroomAbvGr',\n",
       " 'KitchenAbvGr',\n",
       " 'TotRmsAbvGrd',\n",
       " 'Fireplaces',\n",
       " 'GarageYrBlt',\n",
       " 'GarageCars',\n",
       " 'GarageArea',\n",
       " 'WoodDeckSF',\n",
       " 'OpenPorchSF',\n",
       " 'EnclosedPorch',\n",
       " '3SsnPorch',\n",
       " 'ScreenPorch',\n",
       " 'PoolArea',\n",
       " 'MiscVal',\n",
       " 'MoSold',\n",
       " 'YrSold']"
      ]
     },
     "execution_count": 10,
     "metadata": {},
     "output_type": "execute_result"
    }
   ],
   "source": [
    "model.X_columns"
   ]
  },
  {
   "cell_type": "code",
   "execution_count": 11,
   "metadata": {},
   "outputs": [
    {
     "data": {
      "text/plain": [
       "(1460, 1460)"
      ]
     },
     "execution_count": 11,
     "metadata": {},
     "output_type": "execute_result"
    }
   ],
   "source": [
    "len(X), len(y)"
   ]
  },
  {
   "cell_type": "code",
   "execution_count": 12,
   "metadata": {},
   "outputs": [
    {
     "name": "stderr",
     "output_type": "stream",
     "text": [
      "C:\\Users\\Process Research\\Documents\\Anaconda3\\lib\\site-packages\\sklearn\\pipeline.py:335: DataConversionWarning: A column-vector y was passed when a 1d array was expected. Please change the shape of y to (n_samples,), for example using ravel().\n",
      "  self._final_estimator.fit(Xt, y, **fit_params_last_step)\n"
     ]
    },
    {
     "data": {
      "text/html": [
       "<style>div.sk-top-container {color: black;background-color: white;}div.sk-toggleable {background-color: white;}label.sk-toggleable__label {cursor: pointer;display: block;width: 100%;margin-bottom: 0;padding: 0.2em 0.3em;box-sizing: border-box;text-align: center;}div.sk-toggleable__content {max-height: 0;max-width: 0;overflow: hidden;text-align: left;background-color: #f0f8ff;}div.sk-toggleable__content pre {margin: 0.2em;color: black;border-radius: 0.25em;background-color: #f0f8ff;}input.sk-toggleable__control:checked~div.sk-toggleable__content {max-height: 200px;max-width: 100%;overflow: auto;}div.sk-estimator input.sk-toggleable__control:checked~label.sk-toggleable__label {background-color: #d4ebff;}div.sk-label input.sk-toggleable__control:checked~label.sk-toggleable__label {background-color: #d4ebff;}input.sk-hidden--visually {border: 0;clip: rect(1px 1px 1px 1px);clip: rect(1px, 1px, 1px, 1px);height: 1px;margin: -1px;overflow: hidden;padding: 0;position: absolute;width: 1px;}div.sk-estimator {font-family: monospace;background-color: #f0f8ff;margin: 0.25em 0.25em;border: 1px dotted black;border-radius: 0.25em;box-sizing: border-box;}div.sk-estimator:hover {background-color: #d4ebff;}div.sk-parallel-item::after {content: \"\";width: 100%;border-bottom: 1px solid gray;flex-grow: 1;}div.sk-label:hover label.sk-toggleable__label {background-color: #d4ebff;}div.sk-serial::before {content: \"\";position: absolute;border-left: 1px solid gray;box-sizing: border-box;top: 2em;bottom: 0;left: 50%;}div.sk-serial {display: flex;flex-direction: column;align-items: center;background-color: white;}div.sk-item {z-index: 1;}div.sk-parallel {display: flex;align-items: stretch;justify-content: center;background-color: white;}div.sk-parallel-item {display: flex;flex-direction: column;position: relative;background-color: white;}div.sk-parallel-item:first-child::after {align-self: flex-end;width: 50%;}div.sk-parallel-item:last-child::after {align-self: flex-start;width: 50%;}div.sk-parallel-item:only-child::after {width: 0;}div.sk-dashed-wrapped {border: 1px dashed gray;margin: 0.2em;box-sizing: border-box;padding-bottom: 0.1em;background-color: white;position: relative;}div.sk-label label {font-family: monospace;font-weight: bold;background-color: white;display: inline-block;line-height: 1.2em;}div.sk-label-container {position: relative;z-index: 2;text-align: center;}div.sk-container {display: inline-block;position: relative;}</style><div class=\"sk-top-container\"><div class=\"sk-container\"><div class=\"sk-item sk-dashed-wrapped\"><div class=\"sk-label-container\"><div class=\"sk-label sk-toggleable\"><input class=\"sk-toggleable__control sk-hidden--visually\" id=\"1e25019c-56f3-402e-9a75-d01d2077851d\" type=\"checkbox\" ><label class=\"sk-toggleable__label\" for=\"1e25019c-56f3-402e-9a75-d01d2077851d\">Pipeline</label><div class=\"sk-toggleable__content\"><pre>Pipeline(steps=[('simpleimputer', SimpleImputer()), ('standardscaler', None),\n",
       "                ('randomforestregressor',\n",
       "                 RandomForestRegressor(n_estimators=183, random_state=47))])</pre></div></div></div><div class=\"sk-serial\"><div class=\"sk-item\"><div class=\"sk-estimator sk-toggleable\"><input class=\"sk-toggleable__control sk-hidden--visually\" id=\"a168d132-8c3a-4a72-a488-ba2765eff736\" type=\"checkbox\" ><label class=\"sk-toggleable__label\" for=\"a168d132-8c3a-4a72-a488-ba2765eff736\">SimpleImputer</label><div class=\"sk-toggleable__content\"><pre>SimpleImputer()</pre></div></div></div><div class=\"sk-item\"><div class=\"sk-estimator sk-toggleable\"><input class=\"sk-toggleable__control sk-hidden--visually\" id=\"cd67d0c3-46f4-4793-a56b-d00ad15807fa\" type=\"checkbox\" ><label class=\"sk-toggleable__label\" for=\"cd67d0c3-46f4-4793-a56b-d00ad15807fa\">None</label><div class=\"sk-toggleable__content\"><pre>None</pre></div></div></div><div class=\"sk-item\"><div class=\"sk-estimator sk-toggleable\"><input class=\"sk-toggleable__control sk-hidden--visually\" id=\"6d9188a2-d18e-4353-97ae-b0ffdc778939\" type=\"checkbox\" ><label class=\"sk-toggleable__label\" for=\"6d9188a2-d18e-4353-97ae-b0ffdc778939\">RandomForestRegressor</label><div class=\"sk-toggleable__content\"><pre>RandomForestRegressor(n_estimators=183, random_state=47)</pre></div></div></div></div></div></div></div>"
      ],
      "text/plain": [
       "Pipeline(steps=[('simpleimputer', SimpleImputer()), ('standardscaler', None),\n",
       "                ('randomforestregressor',\n",
       "                 RandomForestRegressor(n_estimators=183, random_state=47))])"
      ]
     },
     "execution_count": 12,
     "metadata": {},
     "output_type": "execute_result"
    }
   ],
   "source": [
    "model.fit(X, y)"
   ]
  },
  {
   "cell_type": "code",
   "execution_count": 13,
   "metadata": {},
   "outputs": [],
   "source": [
    "cv_results = cross_validate(model, X, y, scoring='neg_mean_absolute_error', cv=5, n_jobs=-1)"
   ]
  },
  {
   "cell_type": "code",
   "execution_count": 14,
   "metadata": {},
   "outputs": [
    {
     "data": {
      "text/plain": [
       "array([-353.72860993, -504.98819148, -893.81821244, -361.70879183,\n",
       "       -765.36018789])"
      ]
     },
     "execution_count": 14,
     "metadata": {},
     "output_type": "execute_result"
    }
   ],
   "source": [
    "cv_results['test_score']"
   ]
  },
  {
   "cell_type": "code",
   "execution_count": 15,
   "metadata": {},
   "outputs": [
    {
     "data": {
      "text/plain": [
       "(575.9207987124785, 217.82269635988263)"
      ]
     },
     "execution_count": 15,
     "metadata": {},
     "output_type": "execute_result"
    }
   ],
   "source": [
    "mae_mean, mae_std = np.mean(-1 * cv_results['test_score']), np.std(-1 * cv_results['test_score'])\n",
    "mae_mean, mae_std"
   ]
  },
  {
   "cell_type": "markdown",
   "metadata": {},
   "source": [
    "These numbers will inevitably be different to those in the previous step that used a different training data set. They should, however, be consistent. It's important to appreciate that estimates of model performance are subject to the noise and uncertainty of data!"
   ]
  },
  {
   "cell_type": "markdown",
   "metadata": {},
   "source": [
    "Calculate Expected Ames Housing Price From The Model"
   ]
  },
  {
   "cell_type": "code",
   "execution_count": 16,
   "metadata": {},
   "outputs": [],
   "source": [
    "X_bm = ames_housing_nums\n",
    "y_bm = ames_housing_nums[['SalePrice']]"
   ]
  },
  {
   "cell_type": "code",
   "execution_count": 17,
   "metadata": {},
   "outputs": [],
   "source": [
    "bm_pred = model.predict(X_bm)"
   ]
  },
  {
   "cell_type": "code",
   "execution_count": 18,
   "metadata": {},
   "outputs": [],
   "source": [
    "y_bm = y_bm.values"
   ]
  },
  {
   "cell_type": "code",
   "execution_count": null,
   "metadata": {},
   "outputs": [],
   "source": []
  },
  {
   "cell_type": "code",
   "execution_count": 19,
   "metadata": {},
   "outputs": [
    {
     "data": {
      "text/plain": [
       "array([[208500],\n",
       "       [181500],\n",
       "       [223500],\n",
       "       ...,\n",
       "       [266500],\n",
       "       [142125],\n",
       "       [147500]], dtype=int64)"
      ]
     },
     "execution_count": 19,
     "metadata": {},
     "output_type": "execute_result"
    }
   ],
   "source": [
    "y_bm"
   ]
  },
  {
   "cell_type": "code",
   "execution_count": 20,
   "metadata": {},
   "outputs": [
    {
     "name": "stdout",
     "output_type": "stream",
     "text": [
      "1643.762080705067\n",
      "0.9995715800931967\n"
     ]
    }
   ],
   "source": [
    "from sklearn.metrics import mean_squared_error, r2_score\n",
    "\n",
    "y_bm_flat = y_bm.reshape(-1,1)\n",
    "print(np.sqrt(mean_squared_error(y_true=y_bm_flat, y_pred=bm_pred)))\n",
    "print(r2_score(y_true=y_bm_flat, y_pred=bm_pred))"
   ]
  },
  {
   "cell_type": "markdown",
   "metadata": {},
   "source": [
    "The model performance indicates that it is pretty good, with an R-squared value of 0.97."
   ]
  },
  {
   "cell_type": "markdown",
   "metadata": {},
   "source": [
    "Ames Housing In Market Context: Features that came up as important in the modeling (not just our final, random forest model) included:\n",
    "\n",
    "vertical_drop\n",
    "Snow Making_ac\n",
    "total_chairs\n",
    "fastQuads\n",
    "Runs\n",
    "LongestRun_mi\n",
    "trams\n",
    "SkiableTerrain_ac\n",
    "\n",
    "It's often useful to define custom functions for visualizing data in meaningful ways. The function below takes a feature name as an input and plots a histogram of the values of that feature. It then marks where Ames housing sits in the distribution by marking Ames houses' value with a vertical line using matplotlib's axvline function. It also performs a little cleaning up of missing values and adds descriptive labels and a title."
   ]
  },
  {
   "cell_type": "code",
   "execution_count": 21,
   "metadata": {},
   "outputs": [],
   "source": [
    "#Add code to the `plot_compare` function that displays a vertical, dashed line on the histogram to indicate Ames's \n",
    "#position in the distribution .     Hint: plt.axvline() plots a vertical line, its position for 'feature1'\n",
    "#would be `ames_housing['feature1'].values, we'd like a red line, which can be specified with c='r', a dashed linestyle is \n",
    "#produced by ls='--', and it's nice to give it a slightly reduced alpha value, such as 0.8.\n",
    "#Don't forget to give it a useful label (e.g. 'Ames Housing') so it's listed in the legend.\n",
    "def plot_compare(feat_name, description, state=None, figsize=(10, 5)):\n",
    "    \"\"\"Graphically compare distributions of features.\n",
    "    \n",
    "    Plot histogram of values for all resorts and reference line to mark\n",
    "    Big Mountain's position.\n",
    "    \n",
    "    Arguments:\n",
    "    feat_name - the feature column name in the data\n",
    "    description - text description of the feature\n",
    "    state - select a specific state (None for all states)\n",
    "    figsize - (optional) figure size\n",
    "    \"\"\"\n",
    "    \n",
    "    plt.subplots(figsize=figsize)\n",
    "    # quirk that hist sometimes objects to NaNs, sometimes doesn't\n",
    "    # filtering only for finite values tidies this up\n",
    "    if state is None:\n",
    "        ski_x = ames_housing_nums[feat_name]\n",
    "    else:\n",
    "        ski_x = ames_housing_nums.loc[ski_data.state == state, feat_name]\n",
    "    ski_x = ski_x[np.isfinite(ski_x)]\n",
    "    plt.hist(ski_x, bins=30)\n",
    "    plt.axvline(x=ames_housing_nums[feat_name].values, c='r', ls='--', alpha=0.8, label='Ames housing')\n",
    "    plt.xlabel(description)\n",
    "    plt.ylabel('frequency')\n",
    "    plt.title(description + ' distribution for houses in market share')\n",
    "    plt.legend()"
   ]
  },
  {
   "cell_type": "markdown",
   "metadata": {},
   "source": [
    "Ticket price: Look at where Ames houses sits overall amongst all the houses for price."
   ]
  },
  {
   "cell_type": "code",
   "execution_count": 22,
   "metadata": {},
   "outputs": [
    {
     "name": "stderr",
     "output_type": "stream",
     "text": [
      "<ipython-input-22-185785715d19>:4: DataConversionWarning: A column-vector y was passed when a 1d array was expected. Please change the shape of y to (n_samples,), for example using ravel().\n",
      "  forest.fit(X, y)\n"
     ]
    },
    {
     "name": "stdout",
     "output_type": "stream",
     "text": [
      "Feature ranking:\n",
      "1. feature 33 (0.623812)\n",
      "2. feature 2 (0.175546)\n",
      "3. feature 22 (0.073147)\n",
      "4. feature 13 (0.027398)\n",
      "5. feature 16 (0.024386)\n",
      "6. feature 4 (0.018522)\n",
      "7. feature 23 (0.012748)\n",
      "8. feature 9 (0.010514)\n",
      "9. feature 10 (0.007744)\n",
      "10. feature 5 (0.005872)\n",
      "11. feature 21 (0.005861)\n",
      "12. feature 20 (0.003425)\n",
      "13. feature 11 (0.003139)\n",
      "14. feature 6 (0.002510)\n",
      "15. feature 18 (0.000676)\n",
      "16. feature 17 (0.000674)\n",
      "17. feature 1 (0.000602)\n",
      "18. feature 19 (0.000551)\n",
      "19. feature 25 (0.000491)\n",
      "20. feature 14 (0.000394)\n",
      "21. feature 0 (0.000314)\n",
      "22. feature 28 (0.000238)\n",
      "23. feature 24 (0.000237)\n",
      "24. feature 3 (0.000232)\n",
      "25. feature 32 (0.000202)\n",
      "26. feature 31 (0.000163)\n",
      "27. feature 8 (0.000152)\n",
      "28. feature 15 (0.000150)\n",
      "29. feature 26 (0.000078)\n",
      "30. feature 29 (0.000065)\n",
      "31. feature 7 (0.000053)\n",
      "32. feature 27 (0.000047)\n",
      "33. feature 12 (0.000044)\n",
      "34. feature 30 (0.000012)\n"
     ]
    },
    {
     "data": {
      "image/png": "[encoded data removed]",
      "text/plain": [
       "<Figure size 432x288 with 1 Axes>"
      ]
     },
     "metadata": {
      "needs_background": "light"
     },
     "output_type": "display_data"
    }
   ],
   "source": [
    "forest = ExtraTreesRegressor(n_estimators=250,\n",
    "                              random_state=0)\n",
    "\n",
    "forest.fit(X, y)\n",
    "importances = forest.feature_importances_\n",
    "std = np.std([tree.feature_importances_ for tree in forest.estimators_],\n",
    "             axis=0)\n",
    "indices = np.argsort(importances)[::-1]\n",
    "\n",
    "# Print the feature ranking\n",
    "print(\"Feature ranking:\")\n",
    "\n",
    "for f in range(X.shape[1]):\n",
    "    print(\"%d. feature %d (%f)\" % (f + 1, indices[f], importances[indices[f]]))\n",
    "\n",
    "# Plot the impurity-based feature importances of the forest\n",
    "plt.figure()\n",
    "plt.title(\"Feature importances\")\n",
    "plt.bar(range(X.shape[1]), importances[indices],\n",
    "        color=\"r\", yerr=std[indices], align=\"center\")\n",
    "plt.xticks(range(X.shape[1]), indices)\n",
    "plt.xlim([-1, X.shape[1]])\n",
    "plt.show()"
   ]
  },
  {
   "cell_type": "code",
   "execution_count": 23,
   "metadata": {},
   "outputs": [
    {
     "ename": "ModuleNotFoundError",
     "evalue": "No module named 'feature_importance'",
     "output_type": "error",
     "traceback": [
      "\u001b[1;31m---------------------------------------------------------------------------\u001b[0m",
      "\u001b[1;31mModuleNotFoundError\u001b[0m                       Traceback (most recent call last)",
      "\u001b[1;32m<ipython-input-23-836030ba3617>\u001b[0m in \u001b[0;36m<module>\u001b[1;34m\u001b[0m\n\u001b[1;32m----> 1\u001b[1;33m \u001b[1;32mfrom\u001b[0m \u001b[0mfeature_importance\u001b[0m \u001b[1;32mimport\u001b[0m \u001b[0mFeatureImportance\u001b[0m\u001b[1;33m\u001b[0m\u001b[1;33m\u001b[0m\u001b[0m\n\u001b[0m\u001b[0;32m      2\u001b[0m \u001b[0mfeature_importance\u001b[0m \u001b[1;33m=\u001b[0m \u001b[0mFeatureImportance\u001b[0m\u001b[1;33m(\u001b[0m\u001b[0mpipe\u001b[0m\u001b[1;33m)\u001b[0m\u001b[1;33m\u001b[0m\u001b[1;33m\u001b[0m\u001b[0m\n\u001b[0;32m      3\u001b[0m \u001b[0mfeature_importance\u001b[0m\u001b[1;33m.\u001b[0m\u001b[0mplot\u001b[0m\u001b[1;33m(\u001b[0m\u001b[0mtop_n_features\u001b[0m\u001b[1;33m=\u001b[0m\u001b[1;36m25\u001b[0m\u001b[1;33m)\u001b[0m\u001b[1;33m\u001b[0m\u001b[1;33m\u001b[0m\u001b[0m\n",
      "\u001b[1;31mModuleNotFoundError\u001b[0m: No module named 'feature_importance'"
     ]
    }
   ],
   "source": [
    "from feature_importance import FeatureImportance\n",
    "feature_importance = FeatureImportance(pipe)\n",
    "feature_importance.plot(top_n_features=25)"
   ]
  }
 ],
 "metadata": {
  "kernelspec": {
   "display_name": "Python 3",
   "language": "python",
   "name": "python3"
  },
  "language_info": {
   "codemirror_mode": {
    "name": "ipython",
    "version": 3
   },
   "file_extension": ".py",
   "mimetype": "text/x-python",
   "name": "python",
   "nbconvert_exporter": "python",
   "pygments_lexer": "ipython3",
   "version": "3.8.3"
  }
 },
 "nbformat": 4,
 "nbformat_minor": 4
}
